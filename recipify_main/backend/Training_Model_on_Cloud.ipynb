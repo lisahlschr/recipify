{
  "nbformat": 4,
  "nbformat_minor": 0,
  "metadata": {
    "colab": {
      "provenance": []
    },
    "kernelspec": {
      "name": "python3",
      "display_name": "Python 3"
    },
    "language_info": {
      "name": "python"
    }
  },
  "cells": [
    {
      "cell_type": "markdown",
      "source": [
        "# Import"
      ],
      "metadata": {
        "id": "9iGwuaR-3vlO"
      }
    },
    {
      "cell_type": "code",
      "execution_count": null,
      "metadata": {
        "id": "r82xvf6WquDV"
      },
      "outputs": [],
      "source": [
        "import numpy as np\n",
        "import pandas as pd\n",
        "import tensorflow as tf\n",
        "import seaborn as sns\n",
        "import matplotlib.pyplot as plt\n",
        "import os\n",
        "import random\n",
        "import shutil\n",
        "import glob\n",
        "import h5py\n",
        "\n",
        "from os.path import isfile, join\n",
        "from os import listdir\n",
        "from PIL import Image\n",
        "from skimage import io, color\n",
        "from skimage.transform import resize\n",
        "\n",
        "from tensorflow.keras import layers\n",
        "from tensorflow.keras import Sequential\n",
        "from tensorflow.keras import models\n",
        "from tensorflow.keras.utils import to_categorical\n",
        "from tensorflow.keras.utils import image_dataset_from_directory\n",
        "from tensorflow.keras.callbacks import EarlyStopping, ModelCheckpoint, CSVLogger\n",
        "from tensorflow.keras.regularizers import l2\n",
        "from tensorflow.keras.applications.xception import Xception\n",
        "from tensorflow.compat.v1.data import make_one_shot_iterator"
      ]
    },
    {
      "cell_type": "code",
      "source": [
        "from google.colab import drive\n",
        "drive.mount('/content/drive')"
      ],
      "metadata": {
        "colab": {
          "base_uri": "https://localhost:8080/"
        },
        "id": "cj0XUiBKq2Ew",
        "outputId": "65fa1e81-4cff-4235-dee0-ea717d3a1350"
      },
      "execution_count": null,
      "outputs": [
        {
          "output_type": "stream",
          "name": "stdout",
          "text": [
            "Drive already mounted at /content/drive; to attempt to forcibly remount, call drive.mount(\"/content/drive\", force_remount=True).\n"
          ]
        }
      ]
    },
    {
      "cell_type": "markdown",
      "source": [
        "# Functions"
      ],
      "metadata": {
        "id": "zPhYZ70S31RF"
      }
    },
    {
      "cell_type": "code",
      "source": [
        "def plot_loss_accuracy(history, title=None):\n",
        "    fig, ax = plt.subplots(1,2, figsize=(20,7))\n",
        "    \n",
        "    # --- LOSS --- \n",
        "    \n",
        "    ax[0].plot(history.history['loss'])\n",
        "    ax[0].plot(history.history['val_loss'])\n",
        "    ax[0].set_title('Model loss')\n",
        "    ax[0].set_ylabel('Loss')\n",
        "    ax[0].set_xlabel('Epoch')\n",
        "    ax[0].set_ylim((0,14))\n",
        "    ax[0].legend(['Train', 'Test'], loc='best')\n",
        "    ax[0].grid(axis=\"x\",linewidth=0.5)\n",
        "    ax[0].grid(axis=\"y\",linewidth=0.5)\n",
        "    \n",
        "    # --- ACCURACY\n",
        "    \n",
        "    ax[1].plot(history.history['accuracy'])\n",
        "    ax[1].plot(history.history['val_accuracy'])\n",
        "    ax[1].set_title('Model Accuracy')\n",
        "    ax[1].set_ylabel('Accuracy')\n",
        "    ax[1].set_xlabel('Epoch')\n",
        "    ax[1].legend(['Train', 'Test'], loc='best')\n",
        "    ax[1].set_ylim((0,0.3))\n",
        "    ax[1].grid(axis=\"x\",linewidth=0.5)\n",
        "    ax[1].grid(axis=\"y\",linewidth=0.5)\n",
        "    \n",
        "    if title:\n",
        "        fig.suptitle(title)"
      ],
      "metadata": {
        "id": "Bt1sXdNoWNAu"
      },
      "execution_count": null,
      "outputs": []
    },
    {
      "cell_type": "code",
      "source": [
        "def store_many_hdf5(images, lables):\n",
        "    \"\"\" Stores an array of images to HDF5.\n",
        "        Parameters:\n",
        "        ---------------\n",
        "        images       images array, (N, 32, 32, 3) to be stored\n",
        "        labels       labels array, (N, 1) to be stored\n",
        "    \"\"\"\n",
        "\n",
        "    # Create a new HDF5 file\n",
        "    file = h5py.File('/content/drive/MyDrive/Colab Notebooks/recipify/data/val_data.h5', \"w\")\n",
        "\n",
        "    # Create a dataset in the file\n",
        "    dataset = file.create_dataset(\n",
        "        \"images\", np.shape(images), data=images)\n",
        "    \n",
        "    meta_set = file.create_dataset(\n",
        "        \"meta\", np.shape(lables), data=lables)\n",
        "    file.close()"
      ],
      "metadata": {
        "id": "QT4UEzWaWQnw"
      },
      "execution_count": null,
      "outputs": []
    },
    {
      "cell_type": "markdown",
      "source": [
        "# Import data subset as zip"
      ],
      "metadata": {
        "id": "zBzrDUQaCHXZ"
      }
    },
    {
      "cell_type": "code",
      "source": [
        "shutil.unpack_archive('/content/drive/MyDrive/Colab Notebooks/recipify/raw_data/train_subset_150.zip', \"./data_new/\")"
      ],
      "metadata": {
        "id": "9gg9fb8lAaS4"
      },
      "execution_count": null,
      "outputs": []
    },
    {
      "cell_type": "code",
      "source": [
        "train_dir = \"./data_new/train_subset_150/*jpg\""
      ],
      "metadata": {
        "id": "bj8d7EfoAvMb"
      },
      "execution_count": null,
      "outputs": []
    },
    {
      "cell_type": "code",
      "source": [
        "pathes_train = glob.glob(train_dir)\n",
        "len(pathes_train)"
      ],
      "metadata": {
        "colab": {
          "base_uri": "https://localhost:8080/"
        },
        "id": "EAh5ApDBAyCO",
        "outputId": "d50fdc43-9eec-4056-d751-3bdc2e04ff4c"
      },
      "execution_count": null,
      "outputs": [
        {
          "output_type": "execute_result",
          "data": {
            "text/plain": [
              "37534"
            ]
          },
          "metadata": {},
          "execution_count": 7
        }
      ]
    },
    {
      "cell_type": "markdown",
      "source": [
        "# Transforming images into numpy arrays\n",
        "\n"
      ],
      "metadata": {
        "id": "ZY18ogMG5Pin"
      }
    },
    {
      "cell_type": "code",
      "source": [
        "# extracting images as numpy arrays\n",
        "test_list = []\n",
        "\n",
        "for idx, filename in enumerate(pathes_train):\n",
        "    rgb = io.imread(filename)\n",
        "    rgb = resize(rgb, (128, 128))\n",
        "    test_list.append(rgb)"
      ],
      "metadata": {
        "id": "qo1iwJ3m5iFH"
      },
      "execution_count": null,
      "outputs": []
    },
    {
      "cell_type": "code",
      "source": [
        "# stack np arrays\n",
        "X_train_arr = np.stack(test_list, axis=0)\n",
        "X_train_arr.shape"
      ],
      "metadata": {
        "colab": {
          "base_uri": "https://localhost:8080/"
        },
        "id": "x8B-b0EUBLaK",
        "outputId": "fc282ddc-9d1c-45e9-c8ec-d93b65dc584b"
      },
      "execution_count": null,
      "outputs": [
        {
          "output_type": "execute_result",
          "data": {
            "text/plain": [
              "(37534, 128, 128, 3)"
            ]
          },
          "metadata": {},
          "execution_count": 9
        }
      ]
    },
    {
      "cell_type": "code",
      "source": [
        "# transform into tensor\n",
        "X_train = tf.convert_to_tensor(X_train_arr)"
      ],
      "metadata": {
        "id": "TnsfaNXcBPh-"
      },
      "execution_count": null,
      "outputs": []
    },
    {
      "cell_type": "code",
      "source": [
        "# extract labels for train data\n",
        "colnames = ['img_name', 'label']\n",
        "train_path = \"./labels/train_info.csv\"\n",
        "train_df = pd.read_csv(train_path, names = colnames,  header = None)\n",
        "train_df"
      ],
      "metadata": {
        "id": "fMTyKTIODBCG"
      },
      "execution_count": null,
      "outputs": []
    },
    {
      "cell_type": "code",
      "source": [
        "# extract labels for subset\n",
        "relative_path = './data_new/train_subset_150'\n",
        "train_lables = pd.DataFrame(columns=colnames)\n",
        "\n",
        "for path in pathes_train:\n",
        "    im_name = os.path.relpath(path, relative_path)\n",
        "    train_lables = train_lables.append(train_df[train_df['img_name']==im_name])"
      ],
      "metadata": {
        "id": "mxZMioD0g9sk"
      },
      "execution_count": null,
      "outputs": []
    },
    {
      "cell_type": "code",
      "source": [
        "# labels into array\n",
        "y_train_arr = train_lables[\"label\"].to_numpy()\n",
        "y_train_arr.shape"
      ],
      "metadata": {
        "colab": {
          "base_uri": "https://localhost:8080/"
        },
        "id": "jMoPMewvD_SL",
        "outputId": "db1930c7-f2b8-4719-c32f-388efb5f091f"
      },
      "execution_count": null,
      "outputs": [
        {
          "output_type": "execute_result",
          "data": {
            "text/plain": [
              "(37534,)"
            ]
          },
          "metadata": {},
          "execution_count": 14
        }
      ]
    },
    {
      "cell_type": "code",
      "source": [
        "# labels into tensor\n",
        "y_train_arr = np.asarray(y_train_arr).astype('float32')\n",
        "y_train = tf.convert_to_tensor(y_train_arr)"
      ],
      "metadata": {
        "id": "l1RXVMBiD-_G"
      },
      "execution_count": null,
      "outputs": []
    },
    {
      "cell_type": "code",
      "source": [
        "# save the dataset\n",
        "store_many_hdf5(X_train_arr, y_train_arr)"
      ],
      "metadata": {
        "id": "KgmcBuxwEd5e"
      },
      "execution_count": null,
      "outputs": []
    },
    {
      "cell_type": "markdown",
      "source": [
        "# Model"
      ],
      "metadata": {
        "id": "amM2dKbRGE-Q"
      }
    },
    {
      "cell_type": "code",
      "source": [
        "# one hot encoder for labels\n",
        "y_cat = to_categorical(y_train)"
      ],
      "metadata": {
        "colab": {
          "base_uri": "https://localhost:8080/"
        },
        "id": "tWdKqdT-GkYD",
        "outputId": "37cf2edf-8987-48bb-9d6f-e4e95828b44c"
      },
      "execution_count": null,
      "outputs": [
        {
          "output_type": "execute_result",
          "data": {
            "text/plain": [
              "(37534, 251)"
            ]
          },
          "metadata": {},
          "execution_count": 10
        }
      ]
    },
    {
      "cell_type": "code",
      "source": [
        "n_classes = 251\n",
        "batch_size = 128\n",
        "input_shape = (128, 128, 3)"
      ],
      "metadata": {
        "id": "xZ6zbYNcGngZ"
      },
      "execution_count": null,
      "outputs": []
    },
    {
      "cell_type": "code",
      "source": [
        "# layers\n",
        "inputs = Input(shape = input_shape)\n",
        "flip = RandomFlip(\"horizontal_and_vertical\")\n",
        "rot = RandomRotation(1/12)\n",
        "crop = RandomCrop(128, 128)\n",
        "\n",
        "xception = Xception(weights='imagenet', include_top=False)\n",
        "xception.trainable = True \n",
        "\n",
        "flat = Flatten()\n",
        "dense = Dense(128, kernel_regularizer=l1_l2(), activation='relu')\n",
        "dropout = Dropout(0.2)\n",
        "output = Dense(n_classes, activation='softmax')\n",
        "\n",
        "xception_model = models.Sequential([inputs, flip, rot, crop, xception, flat, dense, dropout, output])\n",
        "xception_model.compile(optimizer=\"adam\", loss='categorical_crossentropy', metrics=['accuracy'])"
      ],
      "metadata": {
        "id": "7MLcALLXGnqY"
      },
      "execution_count": null,
      "outputs": []
    },
    {
      "cell_type": "code",
      "source": [
        "xception_model.summary()"
      ],
      "metadata": {
        "id": "bv7aVbOAGwpV"
      },
      "execution_count": null,
      "outputs": []
    },
    {
      "cell_type": "code",
      "source": [
        "es = EarlyStopping(patience=20, restore_best_weights=True, monitor='accuracy')\n",
        "cp = ModelCheckpoint(\"/content/drive/MyDrive/Colab Notebooks/recipify/data/xception_save_at_{epoch}.keras\")\n",
        "callbacks_1 = [es, cp]\n",
        "\n",
        "history_xception = xception_model.fit(X_train, y_cat, \n",
        "                    validation_split = 0.3,\n",
        "                    batch_size = batch_size,\n",
        "                    epochs=300,\n",
        "                    verbose=1,\n",
        "                    callbacks = callbacks_1)"
      ],
      "metadata": {
        "id": "Hd8hJIELGHZ_"
      },
      "execution_count": null,
      "outputs": []
    },
    {
      "cell_type": "code",
      "source": [
        "xception_model.save('/content/drive/MyDrive/Colab Notebooks/recipify/data/xception_model_best.h5')"
      ],
      "metadata": {
        "id": "spJOEbg0LXpA"
      },
      "execution_count": null,
      "outputs": []
    },
    {
      "cell_type": "code",
      "source": [
        "plot_loss_accuracy(history_xception, title=None)"
      ],
      "metadata": {
        "id": "87qeuaKh0KT3"
      },
      "execution_count": null,
      "outputs": []
    },
    {
      "cell_type": "markdown",
      "source": [
        "# Predictions"
      ],
      "metadata": {
        "id": "-bpZyB8Py26M"
      }
    },
    {
      "cell_type": "code",
      "source": [
        "loaded_model = models.load_model(\"/content/drive/MyDrive/Colab Notebooks/recipify/data/xception_model_best.keras\")"
      ],
      "metadata": {
        "id": "gRu2_ApcizGP"
      },
      "execution_count": null,
      "outputs": []
    },
    {
      "cell_type": "code",
      "execution_count": null,
      "metadata": {
        "id": "PiNbk7rkVIYD"
      },
      "outputs": [],
      "source": [
        "filename = \"ice.jpg\"\n",
        "test_image = io.imread(filename)\n",
        "test_image = resize(test_image, (128, 128))\n",
        "test_image = tf.convert_to_tensor(test_image)\n"
      ]
    },
    {
      "cell_type": "code",
      "execution_count": null,
      "metadata": {
        "id": "_iO3OIDQVUl-",
        "colab": {
          "base_uri": "https://localhost:8080/",
          "height": 268
        },
        "outputId": "95bf5244-811e-4030-e96c-93b7b2e26d86"
      },
      "outputs": [
        {
          "output_type": "display_data",
          "data": {
            "text/plain": [
              "<Figure size 432x288 with 1 Axes>"
            ],
            "image/png": "[encoded data removed]"
          },
          "metadata": {
            "needs_background": "light"
          }
        }
      ],
      "source": [
        "plt.imshow(test_image);"
      ]
    },
    {
      "cell_type": "code",
      "execution_count": null,
      "metadata": {
        "id": "UhdbriMKVXee"
      },
      "outputs": [],
      "source": [
        "test_image = tf.expand_dims(test_image, axis=0)"
      ]
    },
    {
      "cell_type": "code",
      "execution_count": null,
      "metadata": {
        "id": "2ThIyofPVmW1"
      },
      "outputs": [],
      "source": [
        "pred = loaded_model.predict(test_image)\n",
        "prediction = pd.DataFrame(pred, columns= range(251))\n",
        "prediction = prediction.T\n",
        "prediction = round(prediction.sort_values(by=0), 5)"
      ]
    },
    {
      "cell_type": "code",
      "source": [
        "prediction"
      ],
      "metadata": {
        "id": "PnNUvuht0lcz"
      },
      "execution_count": null,
      "outputs": []
    }
  ]
}